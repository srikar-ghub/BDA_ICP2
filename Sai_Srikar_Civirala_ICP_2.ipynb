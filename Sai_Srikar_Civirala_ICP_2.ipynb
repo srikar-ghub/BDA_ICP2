{
  "nbformat": 4,
  "nbformat_minor": 0,
  "metadata": {
    "colab": {
      "provenance": []
    },
    "kernelspec": {
      "name": "python3",
      "display_name": "Python 3"
    },
    "language_info": {
      "name": "python"
    }
  },
  "cells": [
    {
      "cell_type": "code",
      "execution_count": null,
      "metadata": {
        "id": "7afG3TFSti7i"
      },
      "outputs": [],
      "source": []
    },
    {
      "cell_type": "markdown",
      "source": [
        "#1\n",
        "Counter.count is a class variable – shared across all instances of the class. Every time any instance calls increment, it updates this shared count.\n",
        "\n",
        "self._count is an instance variable – each instance has its own copy. So only the specific instance’s _count is updated when increment() is called on it.\n",
        "\n",
        "output of a.get_counts(): Instance count: 2, class count: 3\n",
        "output of b.get_counts(): Instance count: 1, class count: 3\n",
        "\n",
        "Effect on instance variable(self.count): Every time increment() is called on a specific instance, it increases that instance's own _count.\n",
        "a.increment()  # a._count becomes 1 unlike b is uneffected.\n",
        "\n",
        "Effect on the Class Variable (Counter.count): Every time any instance calls increment(), Counter.count is increased by 1.\n",
        " a.increment()  # Counter.count += 1\n",
        " b.increment()  # Counter.count += 1 again (now 2)\n",
        " Counter.count is class-wide, shared accross and updated by all objects.\n",
        "\n",
        "#2\n",
        "The parameter args is treated as a single argument, so when you pass multiple numbers like sum_all(1, 2, 3), Python raises a TypeError.\n",
        "Correction: adding * to accept variable number of arguments,,,\n",
        "def sum_all(*args):\n",
        "    return sum(args)\n",
        "Now, args becomes a tuple and gives you the end result without any errors.\n",
        "\n"
      ],
      "metadata": {
        "id": "BoJ88n3pu0D8"
      }
    },
    {
      "cell_type": "code",
      "source": [
        "#3\n",
        "def first_word(word_list):\n",
        "    sorted_list = sorted(word_list)\n",
        "    return sorted_list[0]\n",
        "students = ['Mary', 'Zelda', 'Jimmy', 'Jack', 'Bartholomew', 'Gertrude']\n",
        "print(first_word(students))"
      ],
      "metadata": {
        "colab": {
          "base_uri": "https://localhost:8080/"
        },
        "id": "uDmdSJLVv8hi",
        "outputId": "67ae674e-ec43-4b5a-afd4-2846f4a84b7a"
      },
      "execution_count": 4,
      "outputs": [
        {
          "output_type": "stream",
          "name": "stdout",
          "text": [
            "Bartholomew\n"
          ]
        }
      ]
    },
    {
      "cell_type": "code",
      "source": [
        "class Employee:\n",
        "    employee_count = 0\n",
        "    total_salary = 0\n",
        "\n",
        "    def __init__(self, name, family, salary, department):\n",
        "        self.name = name\n",
        "        self.family = family\n",
        "        self.salary = salary\n",
        "        self.department = department\n",
        "\n",
        "        Employee.employee_count += 1\n",
        "        Employee.total_salary += salary\n",
        "\n",
        "    @classmethod\n",
        "    def average_salary(cls):\n",
        "        if cls.employee_count == 0:\n",
        "            return 0\n",
        "        return cls.total_salary / cls.employee_count\n",
        "\n",
        "    def display_info(self):\n",
        "        return f\"{self.name} {self.family}, Dept: {self.department}, Salary: {self.salary}\"\n",
        "\n",
        "\n",
        "class FulltimeEmployee(Employee):\n",
        "    pass\n",
        "\n",
        "e1 = Employee(\"Sai\", \"Civirala\", 50000, \"IT\")\n",
        "e2 = FulltimeEmployee(\"Rishi\", \"Roshan\", 70000, \"HR\")\n",
        "e3 = FulltimeEmployee(\"Pinky\", \"Reddy\", 65000, \"Finance\")\n",
        "\n",
        "# Calling member functions\n",
        "print(e1.display_info())\n",
        "print(e2.display_info())\n",
        "print(e3.display_info())\n",
        "\n",
        "print(f\"Total Employees: {Employee.employee_count}\")\n",
        "print(f\"Average Salary: {Employee.average_salary()}\")\n"
      ],
      "metadata": {
        "colab": {
          "base_uri": "https://localhost:8080/"
        },
        "id": "pEzzgR8E0KIi",
        "outputId": "83dda2b3-2a8a-4017-f6f9-89de30501a9b"
      },
      "execution_count": 3,
      "outputs": [
        {
          "output_type": "stream",
          "name": "stdout",
          "text": [
            "Sai Civirala, Dept: IT, Salary: 50000\n",
            "Rishi Roshan, Dept: HR, Salary: 70000\n",
            "Pinky Reddy, Dept: Finance, Salary: 65000\n",
            "Total Employees: 3\n",
            "Average Salary: 61666.666666666664\n"
          ]
        }
      ]
    }
  ]
}